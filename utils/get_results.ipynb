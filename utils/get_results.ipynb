{
 "cells": [
  {
   "cell_type": "code",
   "execution_count": 1,
   "metadata": {},
   "outputs": [],
   "source": [
    "import SimpleITK as sitk\n",
    "ref_img = r'/home/songzhiyun/project/BoneTumorSeg/data/version2/83/83-dicom.nii.gz'\n",
    "ref_img = sitk.ReadImage(ref_img)\n",
    "spacing = ref_img.GetSpacing()\n",
    "origin = ref_img.GetOrigin()\n",
    "direction = ref_img.GetDirection()"
   ]
  },
  {
   "cell_type": "code",
   "execution_count": null,
   "metadata": {},
   "outputs": [],
   "source": [
    "resampled_img = resample_img(ref_img, spacing, new_spacing=[spacing[0], spacing[1], spacing[2]*4])\n"
   ]
  },
  {
   "cell_type": "code",
   "execution_count": 18,
   "metadata": {},
   "outputs": [],
   "source": [
    "lr_data = sitk.GetArrayFromImage(ref_img)\n",
    "lr_data = lr_data[::4,...]\n",
    "lr_img = sitk.GetImageFromArray(lr_data)\n",
    "lr_img.SetSpacing((spacing[0], spacing[1], spacing[2]*4))\n",
    "lr_img.SetOrigin(origin)\n",
    "lr_img.SetDirection(direction)\n",
    "sitk.WriteImage(lr_img, '../all_results/segsr_test/result_baseline/lr_img.nii.gz')"
   ]
  },
  {
   "cell_type": "code",
   "execution_count": 19,
   "metadata": {},
   "outputs": [],
   "source": [
    "sr_img = resample_img(lr_img, spacing)\n",
    "sitk.WriteImage(sr_img, '../all_results/segsr_test/result_baseline/sr_img.nii.gz')"
   ]
  },
  {
   "cell_type": "code",
   "execution_count": 6,
   "metadata": {},
   "outputs": [],
   "source": [
    "import numpy as np\n",
    "def resample_img(itk_image, out_spacing=[2.0, 2.0, 2.0], is_label=False):\n",
    "    # resample images to 2mm spacing with simple itk\n",
    "\n",
    "    original_spacing = itk_image.GetSpacing()\n",
    "    original_size = itk_image.GetSize()\n",
    "\n",
    "    out_size = [\n",
    "        int(np.round(original_size[0] * (original_spacing[0] / out_spacing[0]))),\n",
    "        int(np.round(original_size[1] * (original_spacing[1] / out_spacing[1]))),\n",
    "        int(np.round(original_size[2] * (original_spacing[2] / out_spacing[2])))]\n",
    "\n",
    "    resample = sitk.ResampleImageFilter()\n",
    "    resample.SetOutputSpacing(out_spacing)\n",
    "    resample.SetSize(out_size)\n",
    "    resample.SetOutputDirection(itk_image.GetDirection())\n",
    "    resample.SetOutputOrigin(itk_image.GetOrigin())\n",
    "    resample.SetTransform(sitk.Transform())\n",
    "    resample.SetDefaultPixelValue(itk_image.GetPixelIDValue())\n",
    "\n",
    "    if not is_label:\n",
    "        resample.SetInterpolator(sitk.sitkBSpline)\n",
    "\n",
    "    return resample.Execute(itk_image)"
   ]
  },
  {
   "cell_type": "code",
   "execution_count": 7,
   "metadata": {},
   "outputs": [],
   "source": [
    "out_seg_img = r'../all_results/segsr_test_addflip/trilinear/pred_lr.nii.gz'\n",
    "out_seg_img = sitk.ReadImage(out_seg_img)\n",
    "out_seg_img.SetSpacing((spacing[0], spacing[1], spacing[2]*4))\n",
    "out_seg_img.SetOrigin(origin)\n",
    "out_seg_img.SetDirection(direction)\n",
    "sitk.WriteImage(out_seg_img, '../all_results/segsr_test_addflip/trilinear/pred_lr.nii.gz')"
   ]
  },
  {
   "cell_type": "code",
   "execution_count": 16,
   "metadata": {},
   "outputs": [],
   "source": [
    "out_seg_img_sr = resample_img(out_seg_img, out_spacing=spacing, is_label=True)\n",
    "out_seg_img_sr_data = sitk.GetArrayFromImage(out_seg_img_sr)\n",
    "out_seg_img_sr_data = np.round(out_seg_img_sr_data)\n",
    "out_seg_img_sr = sitk.GetImageFromArray(out_seg_img_sr_data)\n",
    "out_seg_img_sr.SetSpacing(spacing)\n",
    "out_seg_img_sr.SetOrigin(origin)\n",
    "out_seg_img_sr.SetDirection(direction)\n",
    "sitk.WriteImage(out_seg_img_sr, '../all_results/segsr_test/result_nnunet/pred_sr.nii.gz')"
   ]
  },
  {
   "cell_type": "code",
   "execution_count": 8,
   "metadata": {},
   "outputs": [],
   "source": [
    "out_seg_img = r'../all_results/segsr_test_addflip/trilinear/pred_hr.nii.gz'\n",
    "out_seg_img = sitk.ReadImage(out_seg_img)\n",
    "out_seg_img.SetSpacing(spacing)\n",
    "out_seg_img.SetOrigin(origin)\n",
    "out_seg_img.SetDirection(direction)\n",
    "sitk.WriteImage(out_seg_img, '../all_results/segsr_test_addflip/trilinear/pred_hr.nii.gz')"
   ]
  },
  {
   "cell_type": "code",
   "execution_count": 2,
   "metadata": {},
   "outputs": [],
   "source": [
    "import SimpleITK as sitk\n",
    "ref_label = r'/home/songzhiyun/project/BoneTumorSeg/data/version2/83/83-seg.nii.gz'\n",
    "ref_label = sitk.ReadImage(ref_label)\n",
    "spacing = ref_label.GetSpacing()\n",
    "origin = ref_label.GetOrigin()\n",
    "direction = ref_label.GetDirection()"
   ]
  },
  {
   "cell_type": "code",
   "execution_count": 7,
   "metadata": {},
   "outputs": [],
   "source": [
    "resampled_label = resample_img(ref_label, out_spacing=[spacing[0], spacing[1], spacing[2]*4], is_label=True)"
   ]
  },
  {
   "cell_type": "code",
   "execution_count": 9,
   "metadata": {},
   "outputs": [],
   "source": [
    "sitk.WriteImage(resampled_label, '/home/songzhiyun/project/BoneTumorSeg/code/smore_seg/smore/all_results/segsr_test/result_baseline/lr_seg.nii.gz')"
   ]
  },
  {
   "cell_type": "code",
   "execution_count": null,
   "metadata": {},
   "outputs": [],
   "source": []
  }
 ],
 "metadata": {
  "kernelspec": {
   "display_name": "szy",
   "language": "python",
   "name": "python3"
  },
  "language_info": {
   "codemirror_mode": {
    "name": "ipython",
    "version": 3
   },
   "file_extension": ".py",
   "mimetype": "text/x-python",
   "name": "python",
   "nbconvert_exporter": "python",
   "pygments_lexer": "ipython3",
   "version": "3.9.18"
  }
 },
 "nbformat": 4,
 "nbformat_minor": 2
}
